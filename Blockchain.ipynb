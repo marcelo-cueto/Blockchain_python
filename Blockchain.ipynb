{
  "nbformat": 4,
  "nbformat_minor": 0,
  "metadata": {
    "colab": {
      "name": "Blockchain.ipynb",
      "provenance": [],
      "authorship_tag": "ABX9TyPNEUicyQkbpXco5D8NZCG9",
      "include_colab_link": true
    },
    "kernelspec": {
      "name": "python3",
      "display_name": "Python 3"
    },
    "language_info": {
      "name": "python"
    }
  },
  "cells": [
    {
      "cell_type": "markdown",
      "metadata": {
        "id": "view-in-github",
        "colab_type": "text"
      },
      "source": [
        "<a href=\"https://colab.research.google.com/github/marcelo-cueto/Blockchain_python/blob/main/Blockchain.ipynb\" target=\"_parent\"><img src=\"https://colab.research.google.com/assets/colab-badge.svg\" alt=\"Open In Colab\"/></a>"
      ]
    },
    {
      "cell_type": "code",
      "source": [
        "pip install flask-ngrok"
      ],
      "metadata": {
        "colab": {
          "base_uri": "https://localhost:8080/"
        },
        "id": "T4CInbaQr15Z",
        "outputId": "ce56c302-bc74-431c-c1ca-962b9f5b4821"
      },
      "execution_count": null,
      "outputs": [
        {
          "output_type": "stream",
          "name": "stdout",
          "text": [
            "Requirement already satisfied: flask-ngrok in /usr/local/lib/python3.7/dist-packages (0.0.25)\n",
            "Requirement already satisfied: Flask>=0.8 in /usr/local/lib/python3.7/dist-packages (from flask-ngrok) (1.1.4)\n",
            "Requirement already satisfied: requests in /usr/local/lib/python3.7/dist-packages (from flask-ngrok) (2.23.0)\n",
            "Requirement already satisfied: itsdangerous<2.0,>=0.24 in /usr/local/lib/python3.7/dist-packages (from Flask>=0.8->flask-ngrok) (1.1.0)\n",
            "Requirement already satisfied: click<8.0,>=5.1 in /usr/local/lib/python3.7/dist-packages (from Flask>=0.8->flask-ngrok) (7.1.2)\n",
            "Requirement already satisfied: Werkzeug<2.0,>=0.15 in /usr/local/lib/python3.7/dist-packages (from Flask>=0.8->flask-ngrok) (1.0.1)\n",
            "Requirement already satisfied: Jinja2<3.0,>=2.10.1 in /usr/local/lib/python3.7/dist-packages (from Flask>=0.8->flask-ngrok) (2.11.3)\n",
            "Requirement already satisfied: MarkupSafe>=0.23 in /usr/local/lib/python3.7/dist-packages (from Jinja2<3.0,>=2.10.1->Flask>=0.8->flask-ngrok) (2.0.1)\n",
            "Requirement already satisfied: certifi>=2017.4.17 in /usr/local/lib/python3.7/dist-packages (from requests->flask-ngrok) (2021.10.8)\n",
            "Requirement already satisfied: idna<3,>=2.5 in /usr/local/lib/python3.7/dist-packages (from requests->flask-ngrok) (2.10)\n",
            "Requirement already satisfied: urllib3!=1.25.0,!=1.25.1,<1.26,>=1.21.1 in /usr/local/lib/python3.7/dist-packages (from requests->flask-ngrok) (1.24.3)\n",
            "Requirement already satisfied: chardet<4,>=3.0.2 in /usr/local/lib/python3.7/dist-packages (from requests->flask-ngrok) (3.0.4)\n"
          ]
        }
      ]
    },
    {
      "cell_type": "code",
      "source": [
        "import datetime\n",
        "import hashlib\n",
        "import json\n",
        "from flask  import Flask, jsonify\n",
        "from flask_ngrok import run_with_ngrok"
      ],
      "metadata": {
        "id": "NNhGfBhi-CwW"
      },
      "execution_count": null,
      "outputs": []
    },
    {
      "cell_type": "code",
      "source": [
        "class Blockchain:\n",
        "\n",
        "  def __init__(self) :\n",
        "      \"\"\"Constructor del Blockchain\"\"\"\n",
        "      self.chain = []\n",
        "      self.create_block(proof=1, previous_hash= '0')\n",
        "\n",
        "  def create_block(self, proof, previous_hash):\n",
        "    \"\"\"Cracion de un nuevo Bloque:\n",
        "\n",
        "    Arguments:\n",
        "      -proof:Nounce del Bloque actual\n",
        "      -previous_hash: Hash del bloque previo\n",
        "      \n",
        "    Returns:\n",
        "      -Block: Devolucion Nuevo bloque creado.\n",
        "      \"\"\"\n",
        "    block={\n",
        "            'index'         : len(self.chain)+1,\n",
        "            'Timestamp'     : str(datetime.datetime.now()),\n",
        "            'proof'         : proof,\n",
        "            'previous_hash' : previous_hash\n",
        "          }\n",
        "    self.chain.append(block)\n",
        "    return block\n",
        "  \n",
        "  def get_previous_block(self):\n",
        "    \"\"\"Obtencion del bloque anterior\n",
        "    Return:\n",
        "      -Devolucion del ultimo bloque de la blockchain.\n",
        "    \"\"\"\n",
        "    return self.chain[-1]\n",
        "\n",
        "  def proof_of_work(self, previous_proof):\n",
        "    \"\"\"Protocolo de concenco (PoW)\n",
        "\n",
        "    Arguments:\n",
        "      -previous_proof: Hash del bloque previo\n",
        "\n",
        "    Return:\n",
        "      -new_proof: Devolucion del nuevo hash obtenido del PoW\n",
        "    \"\"\"\n",
        "    new_proof=1\n",
        "\n",
        "    chech_proof=False\n",
        "\n",
        "    while chech_proof == False:\n",
        "      hash_operation = hashlib.sha256(str(new_proof**2-previous_proof**2).encode()).hexdigest()\n",
        "\n",
        "      if hash_operation[:4] == '0000':\n",
        "\n",
        "        chech_proof == True\n",
        "\n",
        "      else:\n",
        "         \n",
        "        new_proof += 1\n",
        "\n",
        "    return new_proof\n",
        "  \n",
        "  def hash(self, block):\n",
        "    \"\"\"Calculo del Hash de un bloque\n",
        "    \n",
        "    Arguments:\n",
        "      -block : Identifica a un bloque de Blockchain\n",
        "\n",
        "    Returns:\n",
        "      -hash_block: Devuelve el hash del bloque\n",
        "    \"\"\"\n",
        "\n",
        "    encoded_block = json.dumps(block, sort_keys=True).encode()\n",
        "    hash_block = hashlib.sha256(encoded_block).hexdigest()\n",
        "\n",
        "    return hash_block\n",
        "  \n",
        "  def is_chain_valid(self, chain):\n",
        "    \"\"\"Verifica si la Blockchain es valida\n",
        "    \n",
        "    Arguments:\n",
        "      -chain : cadena de bloques que contiene toda la informacion de las transacciones\n",
        "\n",
        "    Returns:\n",
        "      -True/False: Devuelve un booleano en funcion de la validez de la blockchain\n",
        "                  (True: valido , False:Invalido)\n",
        "    \"\"\"\n",
        "    previous_block = chain[0]\n",
        "    block_index=1\n",
        "\n",
        "    while block_index < len(chain):\n",
        "\n",
        "      block = chain[block_index]\n",
        "      \n",
        "      if block['previous_hash'] != self.hash(previous_block):\n",
        "\n",
        "        return False\n",
        "      \n",
        "      previous_proof = previous_block['proof']\n",
        "      proof= block['proof']\n",
        "      hash_operation = hashlib.sha256(str(proof**2-previous_proof**2).encode()).hexdigest()\n",
        "\n",
        "      if hash_operation[:4] != '0000':\n",
        "        \n",
        "        return False\n",
        "\n",
        "      previous_block = block\n",
        "      block_index += 1\n",
        "    \n",
        "    return True\n",
        "\n",
        "\n"
      ],
      "metadata": {
        "id": "uB8zcyQH-bUK"
      },
      "execution_count": null,
      "outputs": []
    },
    {
      "cell_type": "code",
      "source": [
        "#Crear una app web\n",
        "#Ejecucion de la app con Flask\n",
        "app = Flask(__name__)\n",
        "run_with_ngrok(app)\n",
        "\n",
        "#Si se obtiene un error 500, actualizar flask y ejecutar la siguiente linea\n",
        "app.config['JSONIFY_PRETTYPRINT_REGULAR'] = False\n",
        "\n",
        "#Creacion de la Blockchain\n",
        "blockchain = Blockchain()\n",
        "\n",
        "@app.route('/mine_block', methods =['GET'])\n",
        "def mine_block():\n",
        "  \"\"\"Minado de un bloque\"\"\"\n",
        "\n",
        "  previous_block = blockchain.get_previous_block()\n",
        "  previous_proof = previous_block['proof']\n",
        "  proof = blockchain.proof_of_work(previous_proof)\n",
        "  previous_hash = blockchain.hash(previous_block)\n",
        "  block = blockchain.create_block(proof, previous_hash)\n",
        "  response = {'message'       :'Good work, a block was mined!',\n",
        "              'index'         : block['index'],\n",
        "              'Timestamp'     : block['Timestamp'],\n",
        "              'proof'         : block['proof'],\n",
        "              'previous_hash' : block['previous_hash'],                  \n",
        "             }\n",
        "  return jsonify(response), 200\n",
        "\n",
        "\n",
        "@app.route('/get_chain', methods = ['GET'])\n",
        "def get_chain():\n",
        "  \"\"\" Obtencion de Blockchain \"\"\"\n",
        "  response = {'(chain'    : blockchain.chain,\n",
        "              'length'   : len(blockchain.chain)       \n",
        "             }\n",
        "  return jsonify(response), 200\n",
        "\n",
        "@app.route('/is_valid', methods = ['GET'])\n",
        "def is_valid():\n",
        "  \"\"\" Comprovasion si la Blockchain es valida \"\"\"\n",
        "\n",
        "  is_valid = blockchain.is_chain_valid(blockchain.chain)\n",
        "  if is_valid:\n",
        "    response = {'message' : 'The Blockchain es valida'}\n",
        "  else:\n",
        "    response = {'message' : 'The Blockchain NO es valida'}\n",
        "  return jsonify(response), 200\n",
        "\n",
        "\n"
      ],
      "metadata": {
        "id": "V2tZxy97ySkf"
      },
      "execution_count": null,
      "outputs": []
    },
    {
      "cell_type": "code",
      "source": [
        "app.run()"
      ],
      "metadata": {
        "colab": {
          "base_uri": "https://localhost:8080/"
        },
        "id": "_-0Ge8E67TAx",
        "outputId": "33c7af57-5ade-4f38-a50d-563ad8ef2a0a"
      },
      "execution_count": null,
      "outputs": [
        {
          "output_type": "stream",
          "name": "stdout",
          "text": [
            " * Serving Flask app \"__main__\" (lazy loading)\n",
            " * Environment: production\n",
            "\u001b[31m   WARNING: This is a development server. Do not use it in a production deployment.\u001b[0m\n",
            "\u001b[2m   Use a production WSGI server instead.\u001b[0m\n",
            " * Debug mode: off\n"
          ]
        },
        {
          "output_type": "stream",
          "name": "stderr",
          "text": [
            " * Running on http://127.0.0.1:5000/ (Press CTRL+C to quit)\n",
            "Exception in thread Thread-14:\n",
            "Traceback (most recent call last):\n",
            "  File \"/usr/local/lib/python3.7/dist-packages/urllib3/connection.py\", line 159, in _new_conn\n",
            "    (self._dns_host, self.port), self.timeout, **extra_kw)\n",
            "  File \"/usr/local/lib/python3.7/dist-packages/urllib3/util/connection.py\", line 80, in create_connection\n",
            "    raise err\n",
            "  File \"/usr/local/lib/python3.7/dist-packages/urllib3/util/connection.py\", line 70, in create_connection\n",
            "    sock.connect(sa)\n",
            "ConnectionRefusedError: [Errno 111] Connection refused\n",
            "\n",
            "During handling of the above exception, another exception occurred:\n",
            "\n",
            "Traceback (most recent call last):\n",
            "  File \"/usr/local/lib/python3.7/dist-packages/urllib3/connectionpool.py\", line 600, in urlopen\n",
            "    chunked=chunked)\n",
            "  File \"/usr/local/lib/python3.7/dist-packages/urllib3/connectionpool.py\", line 354, in _make_request\n",
            "    conn.request(method, url, **httplib_request_kw)\n",
            "  File \"/usr/lib/python3.7/http/client.py\", line 1281, in request\n",
            "    self._send_request(method, url, body, headers, encode_chunked)\n",
            "  File \"/usr/lib/python3.7/http/client.py\", line 1327, in _send_request\n",
            "    self.endheaders(body, encode_chunked=encode_chunked)\n",
            "  File \"/usr/lib/python3.7/http/client.py\", line 1276, in endheaders\n",
            "    self._send_output(message_body, encode_chunked=encode_chunked)\n",
            "  File \"/usr/lib/python3.7/http/client.py\", line 1036, in _send_output\n",
            "    self.send(msg)\n",
            "  File \"/usr/lib/python3.7/http/client.py\", line 976, in send\n",
            "    self.connect()\n",
            "  File \"/usr/local/lib/python3.7/dist-packages/urllib3/connection.py\", line 181, in connect\n",
            "    conn = self._new_conn()\n",
            "  File \"/usr/local/lib/python3.7/dist-packages/urllib3/connection.py\", line 168, in _new_conn\n",
            "    self, \"Failed to establish a new connection: %s\" % e)\n",
            "urllib3.exceptions.NewConnectionError: <urllib3.connection.HTTPConnection object at 0x7fd62c6c3710>: Failed to establish a new connection: [Errno 111] Connection refused\n",
            "\n",
            "During handling of the above exception, another exception occurred:\n",
            "\n",
            "Traceback (most recent call last):\n",
            "  File \"/usr/local/lib/python3.7/dist-packages/requests/adapters.py\", line 449, in send\n",
            "    timeout=timeout\n",
            "  File \"/usr/local/lib/python3.7/dist-packages/urllib3/connectionpool.py\", line 638, in urlopen\n",
            "    _stacktrace=sys.exc_info()[2])\n",
            "  File \"/usr/local/lib/python3.7/dist-packages/urllib3/util/retry.py\", line 399, in increment\n",
            "    raise MaxRetryError(_pool, url, error or ResponseError(cause))\n",
            "urllib3.exceptions.MaxRetryError: HTTPConnectionPool(host='localhost', port=4040): Max retries exceeded with url: /api/tunnels (Caused by NewConnectionError('<urllib3.connection.HTTPConnection object at 0x7fd62c6c3710>: Failed to establish a new connection: [Errno 111] Connection refused'))\n",
            "\n",
            "During handling of the above exception, another exception occurred:\n",
            "\n",
            "Traceback (most recent call last):\n",
            "  File \"/usr/lib/python3.7/threading.py\", line 926, in _bootstrap_inner\n",
            "    self.run()\n",
            "  File \"/usr/lib/python3.7/threading.py\", line 1177, in run\n",
            "    self.function(*self.args, **self.kwargs)\n",
            "  File \"/usr/local/lib/python3.7/dist-packages/flask_ngrok.py\", line 70, in start_ngrok\n",
            "    ngrok_address = _run_ngrok()\n",
            "  File \"/usr/local/lib/python3.7/dist-packages/flask_ngrok.py\", line 35, in _run_ngrok\n",
            "    tunnel_url = requests.get(localhost_url).text  # Get the tunnel information\n",
            "  File \"/usr/local/lib/python3.7/dist-packages/requests/api.py\", line 76, in get\n",
            "    return request('get', url, params=params, **kwargs)\n",
            "  File \"/usr/local/lib/python3.7/dist-packages/requests/api.py\", line 61, in request\n",
            "    return session.request(method=method, url=url, **kwargs)\n",
            "  File \"/usr/local/lib/python3.7/dist-packages/requests/sessions.py\", line 530, in request\n",
            "    resp = self.send(prep, **send_kwargs)\n",
            "  File \"/usr/local/lib/python3.7/dist-packages/requests/sessions.py\", line 643, in send\n",
            "    r = adapter.send(request, **kwargs)\n",
            "  File \"/usr/local/lib/python3.7/dist-packages/requests/adapters.py\", line 516, in send\n",
            "    raise ConnectionError(e, request=request)\n",
            "requests.exceptions.ConnectionError: HTTPConnectionPool(host='localhost', port=4040): Max retries exceeded with url: /api/tunnels (Caused by NewConnectionError('<urllib3.connection.HTTPConnection object at 0x7fd62c6c3710>: Failed to establish a new connection: [Errno 111] Connection refused'))\n",
            "\n"
          ]
        }
      ]
    },
    {
      "cell_type": "code",
      "source": [
        ""
      ],
      "metadata": {
        "id": "8a6m0788_U8o"
      },
      "execution_count": null,
      "outputs": []
    }
  ]
}