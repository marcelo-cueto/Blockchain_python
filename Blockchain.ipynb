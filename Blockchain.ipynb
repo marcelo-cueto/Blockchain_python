{
  "nbformat": 4,
  "nbformat_minor": 0,
  "metadata": {
    "colab": {
      "name": "Blockchain.ipynb",
      "provenance": [],
      "authorship_tag": "ABX9TyOEJDAWbmNJqVdmexuf71hc",
      "include_colab_link": true
    },
    "kernelspec": {
      "name": "python3",
      "display_name": "Python 3"
    },
    "language_info": {
      "name": "python"
    }
  },
  "cells": [
    {
      "cell_type": "markdown",
      "metadata": {
        "id": "view-in-github",
        "colab_type": "text"
      },
      "source": [
        "<a href=\"https://colab.research.google.com/github/marcelo-cueto/Blockchain_python/blob/main/Blockchain.ipynb\" target=\"_parent\"><img src=\"https://colab.research.google.com/assets/colab-badge.svg\" alt=\"Open In Colab\"/></a>"
      ]
    },
    {
      "cell_type": "code",
      "source": [
        "pip install flask-ngrok"
      ],
      "metadata": {
        "colab": {
          "base_uri": "https://localhost:8080/"
        },
        "id": "T4CInbaQr15Z",
        "outputId": "6a070f6f-01c4-4b6a-e40c-fe6c7a28545c"
      },
      "execution_count": null,
      "outputs": [
        {
          "output_type": "stream",
          "name": "stdout",
          "text": [
            "Collecting flask-ngrok\n",
            "  Downloading flask_ngrok-0.0.25-py3-none-any.whl (3.1 kB)\n",
            "Requirement already satisfied: requests in /usr/local/lib/python3.7/dist-packages (from flask-ngrok) (2.23.0)\n",
            "Requirement already satisfied: Flask>=0.8 in /usr/local/lib/python3.7/dist-packages (from flask-ngrok) (1.1.4)\n",
            "Requirement already satisfied: click<8.0,>=5.1 in /usr/local/lib/python3.7/dist-packages (from Flask>=0.8->flask-ngrok) (7.1.2)\n",
            "Requirement already satisfied: itsdangerous<2.0,>=0.24 in /usr/local/lib/python3.7/dist-packages (from Flask>=0.8->flask-ngrok) (1.1.0)\n",
            "Requirement already satisfied: Jinja2<3.0,>=2.10.1 in /usr/local/lib/python3.7/dist-packages (from Flask>=0.8->flask-ngrok) (2.11.3)\n",
            "Requirement already satisfied: Werkzeug<2.0,>=0.15 in /usr/local/lib/python3.7/dist-packages (from Flask>=0.8->flask-ngrok) (1.0.1)\n",
            "Requirement already satisfied: MarkupSafe>=0.23 in /usr/local/lib/python3.7/dist-packages (from Jinja2<3.0,>=2.10.1->Flask>=0.8->flask-ngrok) (2.0.1)\n",
            "Requirement already satisfied: urllib3!=1.25.0,!=1.25.1,<1.26,>=1.21.1 in /usr/local/lib/python3.7/dist-packages (from requests->flask-ngrok) (1.24.3)\n",
            "Requirement already satisfied: chardet<4,>=3.0.2 in /usr/local/lib/python3.7/dist-packages (from requests->flask-ngrok) (3.0.4)\n",
            "Requirement already satisfied: certifi>=2017.4.17 in /usr/local/lib/python3.7/dist-packages (from requests->flask-ngrok) (2021.10.8)\n",
            "Requirement already satisfied: idna<3,>=2.5 in /usr/local/lib/python3.7/dist-packages (from requests->flask-ngrok) (2.10)\n",
            "Installing collected packages: flask-ngrok\n",
            "Successfully installed flask-ngrok-0.0.25\n"
          ]
        }
      ]
    },
    {
      "cell_type": "code",
      "source": [
        "import datetime\n",
        "import hashlib\n",
        "import json\n",
        "from flask  import Flask, jsonify\n",
        "from flask_ngrok import run_with_ngrok"
      ],
      "metadata": {
        "id": "NNhGfBhi-CwW"
      },
      "execution_count": null,
      "outputs": []
    },
    {
      "cell_type": "code",
      "source": [
        "class Blockchain:\n",
        "\n",
        "  def __init__(self) :\n",
        "      \"\"\"Constructor del Blockchain\"\"\"\n",
        "      self.chain = []\n",
        "      self.create_block(proof=1, previous_hash= '0')\n",
        "\n",
        "  def create_block(self, proof, previous_hash):\n",
        "    \"\"\"Cracion de un nuevo Bloque:\n",
        "\n",
        "    Arguments:\n",
        "      -proof:Nounce del Bloque actual\n",
        "      -previous_hash: Hash del bloque previo\n",
        "      \n",
        "    Returns:\n",
        "      -Block: Devolucion Nuevo bloque creado.\n",
        "      \"\"\"\n",
        "    block={\n",
        "            'index'         : len(self.chain)+1,\n",
        "            'Timestamp'     : str(datetime.datetime.now()),\n",
        "            'proof'         : proof,\n",
        "            'previous_hash' : previous_hash\n",
        "          }\n",
        "    self.chain.append(block)\n",
        "    return block\n",
        "  \n",
        "  def get_previous_block(self):\n",
        "    \"\"\"Obtencion del bloque anterior\n",
        "    Return:\n",
        "      -Devolucion del ultimo bloque de la blockchain.\n",
        "    \"\"\"\n",
        "    return self.chain[-1]\n",
        "\n",
        "  def proof_of_work(self, previous_proof):\n",
        "    \"\"\"Protocolo de concenco (PoW)\n",
        "\n",
        "    Arguments:\n",
        "      -previous_proof: Hash del bloque previo\n",
        "\n",
        "    Return:\n",
        "      -new_proof: Devolucion del nuevo hash obtenido del PoW\n",
        "    \"\"\"\n",
        "    new_proof=1\n",
        "\n",
        "    chech_proof=False\n",
        "\n",
        "    while chech_proof == False:\n",
        "      hash_operation = hashlib.SHA256(str(new_proof**2-previous_proof**2).encode()).hexidiges()\n",
        "\n",
        "      if hash_operation[:4] == '0000':\n",
        "\n",
        "        chech_proof == True\n",
        "\n",
        "      else:\n",
        "         \n",
        "        new_proof += 1\n",
        "\n",
        "    return new_proof\n",
        "  \n",
        "  def hash(self, block):\n",
        "    \"\"\"Calculo del Hash de un bloque\n",
        "    \n",
        "    Arguments:\n",
        "      -block : Identifica a un bloque de Blockchain\n",
        "\n",
        "    Returns:\n",
        "      -hash_block: Devuelve el hash del bloque\n",
        "    \"\"\"\n",
        "\n",
        "    encoded_block = json.dumps(block, sort_keys=True).encode()\n",
        "    hash_block = hashlib.SHA256(encoded_block).hexidiges()\n",
        "\n",
        "    return hash_block\n",
        "  \n",
        "  def is_chain_valid(self, chain):\n",
        "    \"\"\"Verifica si la Blockchain es valida\n",
        "    \n",
        "    Arguments:\n",
        "      -chain : cadena de bloques que contiene toda la informacion de las transacciones\n",
        "\n",
        "    Returns:\n",
        "      -True/False: Devuelve un booleano en funcion de la validez de la blockchain\n",
        "                  (True: valido , False:Invalido)\n",
        "    \"\"\"\n",
        "    previous_block = chain[0]\n",
        "    block_index=1\n",
        "\n",
        "    while block_index < len(chain):\n",
        "\n",
        "      block = chain[block_index]\n",
        "      \n",
        "      if block['previous_hash'] != self.hash(previous_block):\n",
        "\n",
        "        return False\n",
        "      \n",
        "      previous_proof = previous_block['proof']\n",
        "      proof= block['proof']\n",
        "      hash_operation = hashlib.SHA256(str(proof**2-previous_proof**2).encode()).hexidiges()\n",
        "\n",
        "      if hash_operation[:4] != '0000':\n",
        "        \n",
        "        return False\n",
        "\n",
        "      previous_block = block\n",
        "      block_index += 1\n",
        "    \n",
        "    return True\n",
        "\n",
        "\n"
      ],
      "metadata": {
        "id": "uB8zcyQH-bUK"
      },
      "execution_count": null,
      "outputs": []
    },
    {
      "cell_type": "code",
      "source": [
        "#Crear una app web\n",
        "#Ejecucion de la app con Flask\n",
        "app = Flask(__name__)\n",
        "run_with_ngrok(app)\n",
        "\n",
        "#Si se obtiene un error 500, actualizar flask y ejecutar la siguiente linea\n",
        "app.config['JSONIFY_PRETTYPRINT_REGULAR'] = False\n",
        "\n",
        "#Creacion de la Blockchain\n",
        "blockchain = Blockchain()\n",
        "\n",
        "@app.route('/mine_block', methods =['GET'])\n",
        "def mine_block():\n",
        "  \"\"\"Minado de un bloque\"\"\"\n",
        "\n",
        "  previous_block = blockchain.get_previous_block()\n",
        "  previous_proof = previous_block['proof']\n",
        "  proof = blockchain.proof_of_work(previous_proof)\n",
        "  previous_hash = blockchain.hash(previous_block)\\\n",
        "  block = blockchain.create_block(proof, previous_hash)\n",
        "  response = {'message'       :'Good work, a block was mined!',\n",
        "              'index'         : block['index'],\n",
        "              'Timestamp'     : block['Timestamp'],\n",
        "              'proof'         : block['proof'],\n",
        "              'previous_hash' : block['previous_hash'],                  \n",
        "             }\n",
        "  return jsonify(response), 200\n",
        "\n",
        "\n",
        "@app.route('/get_chain', methods = ['GET'])\n",
        "def get_chain():\n",
        "  \"\"\" Obtencion de Blockchain \"\"\"\n",
        "  response = {'(chain'    : blockchain.chain,\n",
        "              'length'   : len(blockchain.chain)       \n",
        "             }\n",
        "  return jsonify(response), 200\n",
        "\n",
        "@app.route('/is_valid', methods = ['GET'])\n",
        "def is_valid():\n",
        "  \"\"\" Comprovasion si la Blockchain es valida \"\"\"\n",
        "\n",
        "  is_valid = blockchain.is_chain_valid(blockchain.chain)\n",
        "  if is_valid:\n",
        "    response = {'message' : 'The Blockchain es valida'}\n",
        "  else:\n",
        "    response = {'message' : 'The Blockchain NO es valida'}\n",
        "  return jsonify(response), 200\n",
        "\n",
        "\n"
      ],
      "metadata": {
        "id": "V2tZxy97ySkf"
      },
      "execution_count": null,
      "outputs": []
    },
    {
      "cell_type": "code",
      "source": [
        "app.run()"
      ],
      "metadata": {
        "id": "_-0Ge8E67TAx"
      },
      "execution_count": null,
      "outputs": []
    }
  ]
}